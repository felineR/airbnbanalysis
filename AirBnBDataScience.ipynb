{
 "cells": [
  {
   "cell_type": "markdown",
   "metadata": {},
   "source": [
    "# Recap on Section 1: Business Understanding"
   ]
  },
  {
   "cell_type": "markdown",
   "metadata": {},
   "source": [
    "This project targets home owners who are considering renting out their home on AirBnB or home owners who already do so and want to maximize the return they get from their rentals. This project looks at three questions:\n",
    "\n",
    "1. Which listing attributes have the highest impact on the listing's price?\n",
    "2. How do the prices of superhost's listings differ from the prices of regular host's listings?\n",
    "3. How well can we predict a listing's price?"
   ]
  },
  {
   "cell_type": "markdown",
   "metadata": {},
   "source": [
    "## What you can expect to find within this Jupyter Notebook\n",
    "This Jupyter Notebook is the second of two Jupyter Notebooks created with the objective to retrieve meaningful insights from the AirBnb datasets of Berlin and Boston. The first Jupyter Notebook focussed on data preparations and can be found in this directory named AirBnBPreparations. We will start this second Jupyter Notebook at the point where the first one finished. Our first step will thus be to read in two dataframes (my_berlin and my_boston) that were cleaned in the first Jupyter Notebook. \n",
    "This Jupyter Notebook will focus on three questions:\n",
    "1. Which listing attributes have the highest impact on the listing's price?\n",
    "2. How do the prices of superhost's listings differ from the prices of regular host's listings?\n",
    "3. How well can we predict a listing's price?"
   ]
  },
  {
   "cell_type": "markdown",
   "metadata": {},
   "source": [
    "## Reading in required libraries and configuring global settings"
   ]
  },
  {
   "cell_type": "code",
   "execution_count": 1,
   "metadata": {},
   "outputs": [],
   "source": [
    "import numpy as np\n",
    "import pandas as pd\n",
    "import matplotlib.pyplot as plt\n",
    "from sklearn.linear_model import LinearRegression\n",
    "from sklearn.model_selection import train_test_split\n",
    "from sklearn.metrics import r2_score, mean_squared_error\n",
    "import seaborn as sns\n",
    "%matplotlib inline\n",
    "pd.options.mode.chained_assignment = None"
   ]
  },
  {
   "cell_type": "markdown",
   "metadata": {},
   "source": [
    "## Reading in the prepared datasets for AirBnB listings in Berlin and Boston"
   ]
  },
  {
   "cell_type": "code",
   "execution_count": 2,
   "metadata": {},
   "outputs": [],
   "source": [
    "my_berlin = pd.read_csv('./my_berlin_after_data_preparation.csv')\n",
    "my_berlin.drop(columns = 'Unnamed: 0', inplace = True)"
   ]
  },
  {
   "cell_type": "code",
   "execution_count": 3,
   "metadata": {},
   "outputs": [],
   "source": [
    "my_boston = pd.read_csv('./my_boston_after_data_preparation.csv')\n",
    "my_boston.drop(columns = 'Unnamed: 0', inplace = True)"
   ]
  },
  {
   "cell_type": "markdown",
   "metadata": {},
   "source": [
    "# Section 5: Evaluate"
   ]
  },
  {
   "cell_type": "markdown",
   "metadata": {},
   "source": [
    "## Question 1: Which listing attributes have the highest impact on the listing's price?"
   ]
  },
  {
   "cell_type": "code",
   "execution_count": 4,
   "metadata": {},
   "outputs": [
    {
     "data": {
      "text/html": [
       "<div>\n",
       "<style scoped>\n",
       "    .dataframe tbody tr th:only-of-type {\n",
       "        vertical-align: middle;\n",
       "    }\n",
       "\n",
       "    .dataframe tbody tr th {\n",
       "        vertical-align: top;\n",
       "    }\n",
       "\n",
       "    .dataframe thead th {\n",
       "        text-align: right;\n",
       "    }\n",
       "</style>\n",
       "<table border=\"1\" class=\"dataframe\">\n",
       "  <thead>\n",
       "    <tr style=\"text-align: right;\">\n",
       "      <th></th>\n",
       "      <th>Features</th>\n",
       "      <th>Correlation</th>\n",
       "      <th>Absolute Correlation</th>\n",
       "    </tr>\n",
       "  </thead>\n",
       "  <tbody>\n",
       "    <tr>\n",
       "      <th>accommodates</th>\n",
       "      <td>accommodates</td>\n",
       "      <td>17.89</td>\n",
       "      <td>17.89</td>\n",
       "    </tr>\n",
       "    <tr>\n",
       "      <th>property_type_Other</th>\n",
       "      <td>property_type_Other</td>\n",
       "      <td>15.00</td>\n",
       "      <td>15.00</td>\n",
       "    </tr>\n",
       "    <tr>\n",
       "      <th>bedrooms</th>\n",
       "      <td>bedrooms</td>\n",
       "      <td>14.73</td>\n",
       "      <td>14.73</td>\n",
       "    </tr>\n",
       "    <tr>\n",
       "      <th>cancellation_policy_strict</th>\n",
       "      <td>cancellation_policy_strict</td>\n",
       "      <td>12.56</td>\n",
       "      <td>12.56</td>\n",
       "    </tr>\n",
       "    <tr>\n",
       "      <th>beds</th>\n",
       "      <td>beds</td>\n",
       "      <td>12.08</td>\n",
       "      <td>12.08</td>\n",
       "    </tr>\n",
       "    <tr>\n",
       "      <th>guests_included</th>\n",
       "      <td>guests_included</td>\n",
       "      <td>11.77</td>\n",
       "      <td>11.77</td>\n",
       "    </tr>\n",
       "    <tr>\n",
       "      <th>room_type_Entire home/apt</th>\n",
       "      <td>room_type_Entire home/apt</td>\n",
       "      <td>11.62</td>\n",
       "      <td>11.62</td>\n",
       "    </tr>\n",
       "    <tr>\n",
       "      <th>room_type_Private room</th>\n",
       "      <td>room_type_Private room</td>\n",
       "      <td>-11.33</td>\n",
       "      <td>11.33</td>\n",
       "    </tr>\n",
       "    <tr>\n",
       "      <th>property_type_Apartment</th>\n",
       "      <td>property_type_Apartment</td>\n",
       "      <td>-11.29</td>\n",
       "      <td>11.29</td>\n",
       "    </tr>\n",
       "    <tr>\n",
       "      <th>bathrooms</th>\n",
       "      <td>bathrooms</td>\n",
       "      <td>10.82</td>\n",
       "      <td>10.82</td>\n",
       "    </tr>\n",
       "  </tbody>\n",
       "</table>\n",
       "</div>"
      ],
      "text/plain": [
       "                                              Features  Correlation  \\\n",
       "accommodates                              accommodates        17.89   \n",
       "property_type_Other                property_type_Other        15.00   \n",
       "bedrooms                                      bedrooms        14.73   \n",
       "cancellation_policy_strict  cancellation_policy_strict        12.56   \n",
       "beds                                              beds        12.08   \n",
       "guests_included                        guests_included        11.77   \n",
       "room_type_Entire home/apt    room_type_Entire home/apt        11.62   \n",
       "room_type_Private room          room_type_Private room       -11.33   \n",
       "property_type_Apartment        property_type_Apartment       -11.29   \n",
       "bathrooms                                    bathrooms        10.82   \n",
       "\n",
       "                            Absolute Correlation  \n",
       "accommodates                               17.89  \n",
       "property_type_Other                        15.00  \n",
       "bedrooms                                   14.73  \n",
       "cancellation_policy_strict                 12.56  \n",
       "beds                                       12.08  \n",
       "guests_included                            11.77  \n",
       "room_type_Entire home/apt                  11.62  \n",
       "room_type_Private room                     11.33  \n",
       "property_type_Apartment                    11.29  \n",
       "bathrooms                                  10.82  "
      ]
     },
     "execution_count": 4,
     "metadata": {},
     "output_type": "execute_result"
    }
   ],
   "source": [
    "corr = round(100 * pd.concat([my_berlin, my_boston], sort = False).corr()['price'].sort_values(ascending=False), 2)\n",
    "\n",
    "price_corr = pd.DataFrame({'Features': corr.index, 'Correlation': corr}, index=None)\n",
    "price_corr.drop(labels = 'price', inplace = True)\n",
    "price_corr['Absolute Correlation'] = abs(price_corr['Correlation'])\n",
    "price_corr.sort_values('Absolute Correlation', ascending=False).head(n=10)"
   ]
  },
  {
   "cell_type": "markdown",
   "metadata": {},
   "source": [
    "## Our Findings for Question 1\n",
    "- From the above correlation results, we see that the price of a listing is most impacted by the number of guests a listing accomodates (correlation coefficient: 17.89). The more guests the listing accomodates, the higher its price. Other characteristics of the listing have positive impacts on the price as well: the more bedrooms a listing has, the higher its price (correlation coefficient: 14.73); the more beds a listing has, the higher its price (correlation coefficient: 12.08), the more guests are included within the booking, the higher the price (correlation coefficient: 11.77), and the more bathrooms a listing has, the higher its price (correlation coefficient: 10.82). From this input we derive: the characteristics of a listing are an essential factor when finding a price for a listing.\n",
    "- The second highest correlation for a listing's price is the feature property_type_Other (correlation coefficient: 15). \"Other\" property types - as we saw during our data cleaning - includes e.g. boats and house boats, villas, resorts, castles, chalets, and islands. Well, we can see why those would be a little more expensive that a regular apartment: their scarcity drives the traveler's demand, and the high demand results in a high price. In alignment with this finding, we can additionally see that the property_type_Apartment is negatively correlated to the price (correlation coefficient: -11.29). Renting out \"just any plain old apartment\" is not a price booster.\n",
    "- Another high positive impact on the price has a strict cancellation policy (correlation coefficient: 12.56). Having a strict cancellation policy leads to higher prices as opposed to super-strict cancellation policies or flexible / moderate cancellation policies. Please note for this finding: the Berlin dataset did not have any listings with strict cancellation policies. Since listing prices in Boston are overall higher than those in Berlin, the high correlation might stem from the difference in locations rather than the traveler's preference for one or the other cancellation policy. \n",
    "- Last but not least: room type. From the correlations we see it becomes clear: renting out an entire home or apartment impacts the price positively (correlation coefficient: 11.62) while renting out a private room has a negative impact on the price (correlation coefficient: -11.29). "
   ]
  },
  {
   "cell_type": "markdown",
   "metadata": {},
   "source": [
    "## Question 2: How do the prices of superhost's listings differ from the prices of regular host's listings?"
   ]
  },
  {
   "cell_type": "markdown",
   "metadata": {},
   "source": [
    "Splitting the datasets into superhost listings and regular host listings"
   ]
  },
  {
   "cell_type": "code",
   "execution_count": 5,
   "metadata": {},
   "outputs": [],
   "source": [
    "berlin_superhosts = my_berlin[my_berlin['host_is_superhost'] == True]\n",
    "berlin_regular_hosts = my_berlin[~my_berlin['host_is_superhost'] == True]\n",
    "boston_superhosts = my_boston[my_boston['host_is_superhost'] == True]\n",
    "boston_regular_hosts = my_boston[~my_boston['host_is_superhost'] == True]"
   ]
  },
  {
   "cell_type": "code",
   "execution_count": 6,
   "metadata": {},
   "outputs": [
    {
     "name": "stdout",
     "output_type": "stream",
     "text": [
      "Superhost mean price in Berlin 70.90235802059117\n",
      "Regular host mean price in Berlin 66.56450539890487\n"
     ]
    }
   ],
   "source": [
    "print('Superhost mean price in Berlin', berlin_superhosts['price'].mean())\n",
    "print('Regular host mean price in Berlin', berlin_regular_hosts['price'].mean())"
   ]
  },
  {
   "cell_type": "code",
   "execution_count": 7,
   "metadata": {},
   "outputs": [
    {
     "name": "stdout",
     "output_type": "stream",
     "text": [
      "Superhost mean price in Boston 176.43488943488944\n",
      "Regular host mean price in Boston 173.60446821900567\n"
     ]
    }
   ],
   "source": [
    "print('Superhost mean price in Boston', boston_superhosts['price'].mean())\n",
    "print('Regular host mean price in Boston', boston_regular_hosts['price'].mean())"
   ]
  },
  {
   "cell_type": "markdown",
   "metadata": {},
   "source": [
    "By checking the mean price of listings, we see that in Berlin and Boston alike, superhost listings achieve on average higher prices than regular host listings. We want to dig deeper:"
   ]
  },
  {
   "cell_type": "code",
   "execution_count": 8,
   "metadata": {},
   "outputs": [
    {
     "data": {
      "image/png": "[encoded data removed]",
      "text/plain": [
       "<Figure size 1440x480 with 1 Axes>"
      ]
     },
     "metadata": {
      "needs_background": "light"
     },
     "output_type": "display_data"
    }
   ],
   "source": [
    "plt.figure(figsize=(18, 6), dpi=80)\n",
    "\n",
    "bplot = plt.boxplot(x=[boston_regular_hosts['price'], boston_superhosts['price'],\n",
    "               berlin_regular_hosts['price'], berlin_superhosts['price']], \n",
    "            labels=['Regular Host Boston', 'Superhost Boston', 'Regular Host Berlin', 'Superhost Berlin'], \n",
    "            vert = False, showfliers = False);"
   ]
  },
  {
   "cell_type": "code",
   "execution_count": 9,
   "metadata": {},
   "outputs": [
    {
     "name": "stdout",
     "output_type": "stream",
     "text": [
      "Berlin Superhost statistics\n",
      " count    3011.000000\n",
      "mean       70.902358\n",
      "std       106.989796\n",
      "min         0.000000\n",
      "25%        35.000000\n",
      "50%        50.000000\n",
      "75%        79.000000\n",
      "max      2500.000000\n",
      "Name: price, dtype: float64\n",
      "\n",
      "Berlin Regular host statistics\n",
      " count    19541.000000\n",
      "mean        66.564505\n",
      "std        232.868218\n",
      "min          0.000000\n",
      "25%         30.000000\n",
      "50%         45.000000\n",
      "75%         70.000000\n",
      "max       9000.000000\n",
      "Name: price, dtype: float64\n"
     ]
    }
   ],
   "source": [
    "print('Berlin Superhost statistics\\n', berlin_superhosts['price'].describe())\n",
    "print('\\nBerlin Regular host statistics\\n', berlin_regular_hosts['price'].describe())"
   ]
  },
  {
   "cell_type": "code",
   "execution_count": 10,
   "metadata": {},
   "outputs": [
    {
     "name": "stdout",
     "output_type": "stream",
     "text": [
      "Boston Superhost statistics\n",
      " count     407.000000\n",
      "mean      176.434889\n",
      "std       140.433355\n",
      "min        35.000000\n",
      "25%        80.000000\n",
      "50%       139.000000\n",
      "75%       219.000000\n",
      "max      1300.000000\n",
      "Name: price, dtype: float64\n",
      "\n",
      "Boston Regular host statistics\n",
      " count    3178.000000\n",
      "mean      173.604468\n",
      "std       149.330671\n",
      "min        10.000000\n",
      "25%        85.000000\n",
      "50%       150.000000\n",
      "75%       220.000000\n",
      "max      4000.000000\n",
      "Name: price, dtype: float64\n"
     ]
    }
   ],
   "source": [
    "print('Boston Superhost statistics\\n', boston_superhosts['price'].describe())\n",
    "print('\\nBoston Regular host statistics\\n', boston_regular_hosts['price'].describe())"
   ]
  },
  {
   "cell_type": "markdown",
   "metadata": {},
   "source": [
    "## Our Findings for Question 2\n",
    "- In Berlin, superhost listings achieve higher average prices than regular host listings. Additionally, the boxplot and the corresponding statistics show that minimum value, 25 percentile, 50 percentile, and 75 percentile are all higher for superhost listings than for regular host listings. Surprisingly, the maximum value is higher for regular host listings than for the superhost listings. Since this maximum value contradicts the other findings for the Berlin dataset, it might be considered an outlier.\n",
    "- The Boston dataset poses a bigger surprise: checking the mean values first, we saw that the prices of superhost listings are on average higher than the prices of listings of regular hosts. But digging deeper, we find that 25 percentile, 50 percentile, 75 percentile, and the maximum value of the regular host listings are actually higher than those of the superhost listings. Apart from the mean value, only the minimum value remains which has a higher value for superhost listings as compared to regular host listings.\n",
    "- To put it in a nutshell, in Berlin hosts with status superhost can achieve higher prices for their listings. In Boston on the other hand, it is not necessarily price-wise worth the effort to receive and retain the status 'superhost'."
   ]
  },
  {
   "cell_type": "markdown",
   "metadata": {},
   "source": [
    "# Section 4: Modeling and Section 5: Evaluate"
   ]
  },
  {
   "cell_type": "markdown",
   "metadata": {},
   "source": [
    "## Question 3: How well can we predict a listing's price?"
   ]
  },
  {
   "cell_type": "code",
   "execution_count": 11,
   "metadata": {},
   "outputs": [
    {
     "name": "stdout",
     "output_type": "stream",
     "text": [
      "After 100 iterations the r squared's mean in Berlin is: 5.35 %.\n"
     ]
    }
   ],
   "source": [
    "lm_berlin = LinearRegression(normalize = True)\n",
    "X_berlin = my_berlin.drop(columns='price')\n",
    "y_berlin = my_berlin['price']\n",
    "\n",
    "r2_scores_berlin = [0] * 100\n",
    "discard = 0\n",
    "\n",
    "for i in np.arange(100):\n",
    "    X_train_berlin, X_test_berlin, y_train_berlin, y_test_berlin = train_test_split(\n",
    "        X_berlin, y_berlin, test_size = 0.3, random_state = i)\n",
    "    lm_berlin.fit(X_train_berlin, y_train_berlin)\n",
    "    y_pred_berlin = lm_berlin.predict(X_test_berlin)\n",
    "    r2_score_berlin = r2_score(y_test_berlin, y_pred_berlin)\n",
    "    if (r2_score_berlin >= 0) and (r2_score_berlin <= 1):\n",
    "        r2_scores_berlin[i] = r2_score_berlin\n",
    "    else:\n",
    "        discard = discard + 1\n",
    "    \n",
    "print('After 100 iterations the r squared\\'s mean in Berlin is:', round(100 * np.sum(r2_scores_berlin)/(99-discard),2), '%.')"
   ]
  },
  {
   "cell_type": "code",
   "execution_count": 12,
   "metadata": {},
   "outputs": [
    {
     "name": "stdout",
     "output_type": "stream",
     "text": [
      "After 100 iterations the r squared's mean in Boston is: 33.86 %.\n"
     ]
    }
   ],
   "source": [
    "lm_boston = LinearRegression(normalize = True)\n",
    "X_boston = my_boston.drop(columns='price')\n",
    "y_boston = my_boston['price']\n",
    "\n",
    "r2_scores_boston = [0] * 100\n",
    "discard = 0\n",
    "\n",
    "for i in np.arange(100):\n",
    "    X_train_boston, X_test_boston, y_train_boston, y_test_boston = train_test_split(\n",
    "        X_boston, y_boston, test_size = 0.3, random_state = i)\n",
    "    lm_boston.fit(X_train_boston, y_train_boston)\n",
    "    y_pred_boston = lm_boston.predict(X_test_boston)\n",
    "    r2_score_boston = r2_score(y_test_boston, y_pred_boston)\n",
    "    if (r2_score_boston >= 0) and (r2_score_boston <= 1):\n",
    "        r2_scores_boston[i] = r2_score_boston\n",
    "    else:\n",
    "        discard = discard + 1\n",
    "    \n",
    "print('After 100 iterations the r squared\\'s mean in Boston is:', round(100 * np.sum(r2_scores_boston)/(99-discard),2), '%.')"
   ]
  },
  {
   "cell_type": "markdown",
   "metadata": {},
   "source": [
    "## Our Findings for Question 3\n",
    "From the above predictions, we can see that the Berlin prices are less predictable than the Boston prices. After fitting 100 linear models, our r squared shows us that on average ~ 5 % of our Berlin data fit our Berlin model(s) and on average ~ 34 % of our Boston data fit our Boston model(s)."
   ]
  },
  {
   "cell_type": "markdown",
   "metadata": {},
   "source": [
    "## Ideas for Improvements on Question 3\n",
    "The above stated r squared error rates leave some room for improvement in predicting a listing's price. Ideas to further advance the prediction quality include:\n",
    "- Check more cities with AirBnB offerings to enhance our overall business understanding of the AirBnB business model and our data unterstanding of the AirBnB listings and their features. One example might be the Seattle AirBnB dataset on Kaggle (https://www.kaggle.com/airbnb/seattle/data)\n",
    "- Go back to the data preparation and include more columns. Remember, in the beginning we excluded all text-field columns - maybe those can increase the quality of our predictions.\n",
    "- Find more advanced algorithms for modelling the data and making predictions. Linear Regression is always a good starting point but maybe other algorithms, e.g. Support Vector Regression or Neural Networks, will yield better results.\n",
    "- Add more measures to evaluate the predictions more holistically. Currently, the r squared error is our only measure of success or failure. Possible measures might include mean squared error or mean absolute error.\n",
    "\n",
    "All in all, you see that further improvements can be made at each step of our CRISP-DM approach."
   ]
  },
  {
   "cell_type": "markdown",
   "metadata": {},
   "source": [
    "# What remains to say\n",
    "\n",
    "If you are interested to find out more about the data preparations made for this AirBnB listings analysis, please feel free to check out the first Jupyter Notebook of this series named AirBnBDataPreparation.\n",
    "\n",
    "The datasets used within this Jupyter Notebook can be found on Kaggle (https://www.kaggle.com/brittabettendorf/berlin-airbnb-data for the Berlin dataset and https://www.kaggle.com/airbnb/boston for the Boston dataset).\n",
    "\n",
    "Author: F B\n",
    "\n",
    "This project has been created as part of the Udacity Nanodegree \"Data Scientist\" 's first project \"Write a Data Science Blog Post\".\n",
    "\n",
    "Created in November 2021"
   ]
  }
 ],
 "metadata": {
  "kernelspec": {
   "display_name": "Python 3",
   "language": "python",
   "name": "python3"
  },
  "language_info": {
   "codemirror_mode": {
    "name": "ipython",
    "version": 3
   },
   "file_extension": ".py",
   "mimetype": "text/x-python",
   "name": "python",
   "nbconvert_exporter": "python",
   "pygments_lexer": "ipython3",
   "version": "3.7.0"
  }
 },
 "nbformat": 4,
 "nbformat_minor": 2
}
